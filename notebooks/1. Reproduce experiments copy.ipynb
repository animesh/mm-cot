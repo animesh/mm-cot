{
  "cells": [
    {
      "cell_type": "code",
      "execution_count": null,
      "metadata": {
        "id": "6h3ppmVJC84c"
      },
      "outputs": [
        {
          "ename": "",
          "evalue": "",
          "output_type": "error",
          "traceback": [
            "\u001b[1;31mJupyter cannot be started. Error attempting to locate Jupyter: Running cells with 'venv' requires the jupyter and notebook package.\n",
            "\u001b[1;31mRun the following command to install 'jupyter and notebook' into the Python environment. \n",
            "\u001b[1;31mCommand: 'python -m pip install jupyter notebook -U\n",
            "\u001b[1;31mor\n",
            "\u001b[1;31mconda install jupyter notebook -U'\n",
            "\u001b[1;31mClick <a href='https://aka.ms/installJupyterForVSCode'>here</a> for more info."
          ]
        }
      ],
      "source": [
        "#!pip install -r dev-requirements.txt\n",
        "\n",
        "import numpy as np\n",
        "original = np.load('../data/vision_features/detr.npy')\n",
        "original[0]"
      ]
    },
    {
      "cell_type": "code",
      "execution_count": null,
      "metadata": {
        "id": "DfCYUQgd5K6p"
      },
      "outputs": [],
      "source": [
        "from src.data.vision_features.detr_extractor import DetrExtractor\n",
        "extractor = DetrExtractor()\n",
        "\n",
        "import urllib\n",
        "urlib.request.urlretrieve('https://datasets-server.huggingface.co/assets/derek-thomas/ScienceQA/--/derek-thomas--ScienceQA/train/0/image/image.jpg', 'image.jpg')\n",
        "extractor.extract_image_features('image.jpg')\n"
      ]
    }
  ],
  "metadata": {
    "accelerator": "GPU",
    "colab": {
      "provenance": []
    },
    "gpuClass": "premium",
    "kernelspec": {
      "display_name": "Python 3",
      "name": "python3"
    },
    "language_info": {
      "name": "python",
      "version": "3.8.10"
    }
  },
  "nbformat": 4,
  "nbformat_minor": 0
}
