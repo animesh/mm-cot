{
  "cells": [
    {
      "cell_type": "code",
      "execution_count": null,
      "metadata": {
        "id": "6h3ppmVJC84c"
      },
      "outputs": [],
      "source": [
        "!git clone https://github.com/gianfrancodemarco/mm-cot\n",
        "!pip install jedi==0.10\n",
        "\n",
        "import os\n",
        "os.chdir('mm-cot')\n",
        "\n",
        "!pip install -r dev-requirements.txt\n",
        "\n",
        "import nltk\n",
        "nltk.download('punkt')"
      ]
    },
    {
      "cell_type": "code",
      "execution_count": null,
      "metadata": {
        "id": "DfCYUQgd5K6p"
      },
      "outputs": [],
      "source": [
        "!pip install dvc\n",
        "!dvc remote modify origin --local auth basic\n",
        "!dvc remote modify origin --local user <user>\n",
        "!dvc remote modify origin --local password <password>"
      ]
    },
    {
      "cell_type": "code",
      "source": [
        "!dvc pull data/fakeddit/partial/vision_features/detr-resnet-101-dc5/\n",
        "!dvc pull data/fakeddit/partial/vision_features/vision_features_600.npy\n",
        "!dvc pull data/fakeddit/partial/dataset.csv\n",
        "!dvc pull data/fakeddit/partial/test.csv\n",
        "!dvc pull data/fakeddit/partial/train.csv\n",
        "!dvc pull data/fakeddit/partial/validation.csv\n",
        "!dvc pull models"
      ],
      "metadata": {
        "id": "O7rJb7D66Kcs"
      },
      "execution_count": null,
      "outputs": []
    },
    {
      "cell_type": "code",
      "source": [
        "!echo MLFLOW_TRACKING_URI=https://dagshub.com/gianfrancodemarco/mm-cot.mlflow >> .env\n",
        "!echo MLFLOW_TRACKING_USERNAME=<username> >> .env\n",
        "!echo MLFLOW_TRACKING_PASSWORD=<token> >> .env\n",
        "!cat .env"
      ],
      "metadata": {
        "colab": {
          "base_uri": "https://localhost:8080/"
        },
        "id": "3Yf4FqtfmYVS",
        "outputId": "4fc629c6-b265-4a4d-e261-089daced05df"
      },
      "execution_count": null,
      "outputs": [
        {
          "output_type": "stream",
          "name": "stdout",
          "text": [
            "MLFLOW_TRACKING_URI=https://dagshub.com/gianfrancodemarco/mm-cot.mlflow\n",
            "MLFLOW_TRACKING_USERNAME=gianfrancodemarco\n",
            "MLFLOW_TRACKING_PASSWORD=30dbb855b5d00ead5553ae5cfca14661e2126ecb\n"
          ]
        }
      ]
    },
    {
      "cell_type": "code",
      "source": [
        "!python src/main.py --user_msg answer --img_type detr --output_len 64 --final_eval --prompt_format QCMG-A --evaluate_dir models/MM-CoT-UnifiedQA-base-Answer --task EVALUATE --dataset FAKEDDIT "
      ],
      "metadata": {
        "id": "5nM8WH6dkHI8"
      },
      "execution_count": null,
      "outputs": []
    }
  ],
  "metadata": {
    "colab": {
      "provenance": []
    },
    "gpuClass": "premium",
    "kernelspec": {
      "display_name": "Python 3",
      "name": "python3"
    },
    "language_info": {
      "name": "python"
    },
    "accelerator": "GPU"
  },
  "nbformat": 4,
  "nbformat_minor": 0
}